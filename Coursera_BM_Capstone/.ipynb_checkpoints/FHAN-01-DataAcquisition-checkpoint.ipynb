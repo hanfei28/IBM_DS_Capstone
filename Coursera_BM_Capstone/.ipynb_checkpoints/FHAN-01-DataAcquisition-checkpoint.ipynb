{
 "cells": [
  {
   "cell_type": "markdown",
   "metadata": {},
   "source": [
    "# Data Acquisition"
   ]
  },
  {
   "cell_type": "markdown",
   "metadata": {},
   "source": [
    "Phase 1:\n",
    "    \n",
    "    - Get Top 10 sites to visit in Chicago\n",
    "    - Get a list of restaurants for each of the top 10 sites\n",
    "    - Get the Chicago Police Department Crime Data"
   ]
  },
  {
   "cell_type": "code",
   "execution_count": 43,
   "metadata": {},
   "outputs": [],
   "source": [
    "# Import Pandas to provide DataFrame support\n",
    "import pandas as pd\n",
    "pd.set_option('display.max_columns', None)\n",
    "pd.set_option('display.max_rows', None)\n",
    "\n",
    "# Import Requests\n",
    "import requests\n",
    "\n",
    "# Import BeautifulSoup\n",
    "from bs4 import BeautifulSoup"
   ]
  },
  {
   "cell_type": "code",
   "execution_count": 48,
   "metadata": {
    "scrolled": true
   },
   "outputs": [],
   "source": [
    "# Yaml is used to store some of the required configurations\n",
    "import yaml\n",
    "\n",
    "with open(\".\\\\data\\\\config.txt\", \"r\") as f:\n",
    "    cfg = yaml.load(f, Loader=yaml.FullLoader)\n",
    " \n",
    "search_params = {\n",
    "    'client_id': cfg['client_id'],\n",
    "    'client_secret': cfg['client_secret'],\n",
    "    'intent': 'browse',\n",
    "    'limit': 50,\n",
    "    'v': cfg['version']\n",
    "}"
   ]
  },
  {
   "cell_type": "code",
   "execution_count": 56,
   "metadata": {},
   "outputs": [],
   "source": [
    "# Use the Requests get method to request the top sites in Chicago\n",
    "page = requests.get(\n",
    "    \"https://foursquare.com/explore?mode=url&near=Chicago%2C%20IL%2C%20United%20States&nearGeoId=72057594042815334&q=Top%20Picks\")\n",
    "\n",
    "# Convert the HTML response into a BeautifulSoup Object\n",
    "soup = BeautifulSoup(page.content, 'html.parser')\n",
    "\n",
    "# Use the BeautifulSoup find_all method to extract each top site venue details.\n",
    "top_venues = soup.find_all('div', class_='venueDetails')\n"
   ]
  },
  {
   "cell_type": "code",
   "execution_count": 69,
   "metadata": {},
   "outputs": [
    {
     "name": "stdout",
     "output_type": "stream",
     "text": [
      "0.*****<div class=\"venueDetails\"><div class=\"venueScore positive\" style=\"background-color: #00B551;\" title=\"9.5/10 - People like this place\">9.5</div><div class=\"venueName\"><h2><span class=\"venueIndex\">1</span>. <a href=\"/v/nature-boardwalk/4c23e840a852c928594ae26c\" target=\"_blank\">Nature Boardwalk</a></h2></div><div class=\"venueMeta\"><div class=\"venueAddressData\"><div class=\"venueData\"><span class=\"venueDataItem\"><span class=\"categoryName\">Trail</span><span class=\"delim\"> • </span></span></div><div class=\"venueAddress\">2001 N Clark St (btwn Fullerton Ave &amp; LaSalle Dr), Chicago</div></div></div></div>\n",
      "1.*****<div class=\"venueDetails\"><div class=\"venueScore positive\" style=\"background-color: #00B551;\" title=\"9.5/10 - People like this place\">9.5</div><div class=\"venueName\"><h2><span class=\"venueIndex\">2</span>. <a href=\"/v/millennium-park/42b75880f964a52090251fe3\" target=\"_blank\">Millennium Park</a></h2></div><div class=\"venueMeta\"><div class=\"venueAddressData\"><div class=\"venueData\"><span class=\"venueDataItem\"><span class=\"categoryName\">Park</span><span class=\"delim\"> • </span></span></div><div class=\"venueAddress\">201 E Randolph St (btwn Columbus Dr &amp; Michigan Ave), Chicago</div></div></div></div>\n",
      "2.*****<div class=\"venueDetails\"><div class=\"venueScore positive\" style=\"background-color: #00B551;\" title=\"9.5/10 - People like this place\">9.5</div><div class=\"venueName\"><h2><span class=\"venueIndex\">3</span>. <a href=\"/v/chicago-riverwalk/4b9d15c5f964a520478e36e3\" target=\"_blank\">Chicago Riverwalk</a></h2></div><div class=\"venueMeta\"><div class=\"venueAddressData\"><div class=\"venueData\"><span class=\"venueDataItem\"><span class=\"categoryName\">Waterfront</span><span class=\"delim\"> • </span></span></div><div class=\"venueAddress\">Chicago River, Chicago</div></div></div></div>\n",
      "3.*****<div class=\"venueDetails\"><div class=\"venueScore positive\" style=\"background-color: #00B551;\" title=\"9.5/10 - People like this place\">9.5</div><div class=\"venueName\"><h2><span class=\"venueIndex\">4</span>. <a href=\"/v/binnys-beverage-depot/4b06c066f964a52097ef22e3\" target=\"_blank\">Binny's Beverage Depot</a></h2></div><div class=\"venueMeta\"><div class=\"venueAddressData\"><div class=\"venueData\"><span class=\"venueDataItem\"><span class=\"categoryName\">Liquor Store</span><span class=\"delim\"> • </span></span></div><div class=\"venueAddress\">1720 N. Marcey St. (at W Willow St), Chicago</div></div></div></div>\n",
      "4.*****<div class=\"venueDetails\"><div class=\"venueScore positive\" style=\"background-color: #00B551;\" title=\"9.5/10 - People like this place\">9.5</div><div class=\"venueName\"><h2><span class=\"venueIndex\">5</span>. <a href=\"/v/publican-quality-meats/4f2a0d0ae4b0837d0c4c2bc3\" target=\"_blank\">Publican Quality Meats</a></h2></div><div class=\"venueMeta\"><div class=\"venueAddressData\"><div class=\"venueData\"><span class=\"venueDataItem\"><span class=\"categoryName\">Deli / Bodega</span><span class=\"delim\"> • </span></span><span class=\"venueDataItem\"><span class=\"price\" title=\"Moderate\"><span class=\"darken\" itemprop=\"priceRange\">$$</span>$$</span><span class=\"delim\"> • </span></span><span class=\"linkToMenu venueDataItem\"><a class=\"menuLink\" href=\"https://foursquare.com/v/publican-quality-meats/4f2a0d0ae4b0837d0c4c2bc3/menu\" target=\"_blank\">View Menu</a><span class=\"delim\"> • </span></span></div><div class=\"venueAddress\">825 W Fulton Market (at Green), Chicago</div></div></div></div>\n",
      "5.*****<div class=\"venueDetails\"><div class=\"venueScore positive\" style=\"background-color: #00B551;\" title=\"9.5/10 - People like this place\">9.5</div><div class=\"venueName\"><h2><span class=\"venueIndex\">6</span>. <a href=\"/v/grant-park/4c47533649fa9521cb1f5e62\" target=\"_blank\">Grant Park</a></h2></div><div class=\"venueMeta\"><div class=\"venueAddressData\"><div class=\"venueData\"><span class=\"venueDataItem\"><span class=\"categoryName\">Park</span><span class=\"delim\"> • </span></span></div><div class=\"venueAddress\">337 E Randolph Dr (at Michigan Ave), Chicago</div></div></div></div>\n",
      "6.*****<div class=\"venueDetails\"><div class=\"venueScore positive\" style=\"background-color: #00B551;\" title=\"9.5/10 - People like this place\">9.5</div><div class=\"venueName\"><h2><span class=\"venueIndex\">7</span>. <a href=\"/v/the-art-institute-of-chicago/49e9ef74f964a52011661fe3\" target=\"_blank\">The Art Institute of Chicago</a></h2></div><div class=\"venueMeta\"><div class=\"venueAddressData\"><div class=\"venueData\"><span class=\"venueDataItem\"><span class=\"categoryName\">Art Museum</span><span class=\"delim\"> • </span></span><span class=\"venueDataItem\"><span class=\"price\" title=\"Moderate\"><span class=\"darken\" itemprop=\"priceRange\">$$</span>$$</span><span class=\"delim\"> • </span></span><span class=\"linkToMenu venueDataItem\"><a class=\"menuLink\" href=\"https://foursquare.com/v/the-art-institute-of-chicago/49e9ef74f964a52011661fe3/menu\" target=\"_blank\">View Prices</a><span class=\"delim\"> • </span></span></div><div class=\"venueAddress\">111 S Michigan Ave (btwn Monroe St &amp; Jackson Dr), Chicago</div></div></div></div>\n",
      "7.*****<div class=\"venueDetails\"><div class=\"venueScore positive\" style=\"background-color: #00B551;\" title=\"9.5/10 - People like this place\">9.5</div><div class=\"venueName\"><h2><span class=\"venueIndex\">8</span>. <a href=\"/v/bari/4a6e8003f964a520d5d41fe3\" target=\"_blank\">Bari</a></h2></div><div class=\"venueMeta\"><div class=\"venueAddressData\"><div class=\"venueData\"><span class=\"venueDataItem\"><span class=\"categoryName\">Sandwiches</span><span class=\"delim\"> • </span></span><span class=\"venueDataItem\"><span class=\"price\" title=\"Cheap\"><span class=\"darken\" itemprop=\"priceRange\">$</span>$$$</span><span class=\"delim\"> • </span></span><span class=\"linkToMenu venueDataItem\"><a class=\"menuLink\" href=\"https://foursquare.com/v/bari/4a6e8003f964a520d5d41fe3/menu\" target=\"_blank\">View Menu</a><span class=\"delim\"> • </span></span></div><div class=\"venueAddress\">1120 W Grand Ave (at N May St), Chicago</div></div></div></div>\n",
      "8.*****<div class=\"venueDetails\"><div class=\"venueScore positive\" style=\"background-color: #00B551;\" title=\"9.5/10 - People like this place\">9.5</div><div class=\"venueName\"><h2><span class=\"venueIndex\">9</span>. <a href=\"/v/unabridged-books/4a9046daf964a520ff1620e3\" target=\"_blank\">Unabridged Books</a></h2></div><div class=\"venueMeta\"><div class=\"venueAddressData\"><div class=\"venueData\"><span class=\"venueDataItem\"><span class=\"categoryName\">Bookstore</span><span class=\"delim\"> • </span></span></div><div class=\"venueAddress\">3251 N Broadway St (at W Melrose St), Chicago</div></div></div></div>\n",
      "9.*****<div class=\"venueDetails\"><div class=\"venueScore positive\" style=\"background-color: #00B551;\" title=\"9.5/10 - People like this place\">9.5</div><div class=\"venueName\"><h2><span class=\"venueIndex\">10</span>. <a href=\"/v/the-chicago-theatre/4aa05f40f964a520643f20e3\" target=\"_blank\">The Chicago Theatre</a></h2></div><div class=\"venueMeta\"><div class=\"venueAddressData\"><div class=\"venueData\"><span class=\"venueDataItem\"><span class=\"categoryName\">Theater</span><span class=\"delim\"> • </span></span></div><div class=\"venueAddress\">175 N State St (at E Lake St), Chicago</div></div></div></div>\n",
      "10.*****<div class=\"venueDetails\"><div class=\"venueScore positive\" style=\"background-color: #00B551;\" title=\"9.5/10 - People like this place\">9.5</div><div class=\"venueName\"><h2><span class=\"venueIndex\">11</span>. <a href=\"/v/chicago-lakefront-trail/4b9511c7f964a520f38d34e3\" target=\"_blank\">Chicago Lakefront Trail</a></h2></div><div class=\"venueMeta\"><div class=\"venueAddressData\"><div class=\"venueData\"><span class=\"venueDataItem\"><span class=\"categoryName\">Trail</span><span class=\"delim\"> • </span></span></div><div class=\"venueAddress\">Lake Michigan Lakefront (at N Lakeshore Dr), Chicago</div></div></div></div>\n",
      "11.*****<div class=\"venueDetails\"><div class=\"venueScore positive\" style=\"background-color: #00B551;\" title=\"9.5/10 - People like this place\">9.5</div><div class=\"venueName\"><h2><span class=\"venueIndex\">12</span>. <a href=\"/v/symphony-center-chicago-symphony-orchestra/4adfca6df964a520777d21e3\" target=\"_blank\">Symphony Center (Chicago Symphony Orchestra)</a></h2></div><div class=\"venueMeta\"><div class=\"venueAddressData\"><div class=\"venueData\"><span class=\"venueDataItem\"><span class=\"categoryName\">Concert Hall</span><span class=\"delim\"> • </span></span></div><div class=\"venueAddress\">220 S Michigan Ave (btwn Adams &amp; Jackson), Chicago</div></div></div></div>\n",
      "12.*****<div class=\"venueDetails\"><div class=\"venueScore positive\" style=\"background-color: #00B551;\" title=\"9.4/10 - People like this place\">9.4</div><div class=\"venueName\"><h2><span class=\"venueIndex\">13</span>. <a href=\"/v/webers-bakery/4b9a32a0f964a5200aa435e3\" target=\"_blank\">Weber's Bakery</a></h2></div><div class=\"venueMeta\"><div class=\"venueAddressData\"><div class=\"venueData\"><span class=\"venueDataItem\"><span class=\"categoryName\">Bakery</span><span class=\"delim\"> • </span></span><span class=\"venueDataItem\"><span class=\"price\" title=\"Moderate\"><span class=\"darken\" itemprop=\"priceRange\">$$</span>$$</span><span class=\"delim\"> • </span></span><span class=\"linkToMenu venueDataItem\"><a class=\"menuLink\" href=\"https://foursquare.com/v/webers-bakery/4b9a32a0f964a5200aa435e3/menu\" target=\"_blank\">View Menu</a><span class=\"delim\"> • </span></span></div><div class=\"venueAddress\">7055 W Archer Ave (at Nottingham Ave), Chicago</div></div></div></div>\n",
      "13.*****<div class=\"venueDetails\"><div class=\"venueScore positive\" style=\"background-color: #00B551;\" title=\"9.4/10 - People like this place\">9.4</div><div class=\"venueName\"><h2><span class=\"venueIndex\">14</span>. <a href=\"/v/lost-larson-bakery/5b15ed56cbcdee002c59b8e8\" target=\"_blank\">Lost Larson Bakery</a></h2></div><div class=\"venueMeta\"><div class=\"venueAddressData\"><div class=\"venueData\"><span class=\"venueDataItem\"><span class=\"categoryName\">Bakery</span><span class=\"delim\"> • </span></span></div><div class=\"venueAddress\">5318 N Clark St, Chicago</div></div></div></div>\n",
      "14.*****<div class=\"venueDetails\"><div class=\"venueScore positive\" style=\"background-color: #00B551;\" title=\"9.4/10 - People like this place\">9.4</div><div class=\"venueName\"><h2><span class=\"venueIndex\">15</span>. <a href=\"/v/lickity-split/4dfc110145ddebdfeaa9754e\" target=\"_blank\">Lickity Split</a></h2></div><div class=\"venueMeta\"><div class=\"venueAddressData\"><div class=\"venueData\"><span class=\"venueDataItem\"><span class=\"categoryName\">Ice Cream</span><span class=\"delim\"> • </span></span><span class=\"venueDataItem\"><span class=\"price\" title=\"Cheap\"><span class=\"darken\" itemprop=\"priceRange\">$</span>$$$</span><span class=\"delim\"> • </span></span><span class=\"linkToMenu venueDataItem\"><a class=\"menuLink\" href=\"https://foursquare.com/v/lickity-split/4dfc110145ddebdfeaa9754e/menu\" target=\"_blank\">View Menu</a><span class=\"delim\"> • </span></span></div><div class=\"venueAddress\">6056 N Broadway St (at W Glenlake Ave), Chicago</div></div></div></div>\n",
      "15.*****<div class=\"venueDetails\"><div class=\"venueScore positive\" style=\"background-color: #00B551;\" title=\"9.4/10 - People like this place\">9.4</div><div class=\"venueName\"><h2><span class=\"venueIndex\">16</span>. <a href=\"/v/lincoln-park/4f6b838d7bebf48a25686d52\" target=\"_blank\">Lincoln Park</a></h2></div><div class=\"venueMeta\"><div class=\"venueAddressData\"><div class=\"venueData\"><span class=\"venueDataItem\"><span class=\"categoryName\">Park</span><span class=\"delim\"> • </span></span></div><div class=\"venueAddress\">5700 N Lake Shore Dr (btwn Glenlake Ave &amp; Grand Ave), Chicago</div></div></div></div>\n",
      "16.*****<div class=\"venueDetails\"><div class=\"venueScore positive\" style=\"background-color: #00B551;\" title=\"9.4/10 - People like this place\">9.4</div><div class=\"venueName\"><h2><span class=\"venueIndex\">17</span>. <a href=\"/v/garfield-park-conservatory/49dce128f964a520b65f1fe3\" target=\"_blank\">Garfield Park Conservatory</a></h2></div><div class=\"venueMeta\"><div class=\"venueAddressData\"><div class=\"venueData\"><span class=\"venueDataItem\"><span class=\"categoryName\">Garden</span><span class=\"delim\"> • </span></span></div><div class=\"venueAddress\">300 N Central Park Ave (at Lake St), Chicago</div></div></div></div>\n",
      "17.*****<div class=\"venueDetails\"><div class=\"venueScore positive\" style=\"background-color: #00B551;\" title=\"9.4/10 - People like this place\">9.4</div><div class=\"venueName\"><h2><span class=\"venueIndex\">18</span>. <a href=\"/v/ipsento-606/5743c846498ec47db1127412\" target=\"_blank\">Ipsento 606</a></h2></div><div class=\"venueMeta\"><div class=\"venueAddressData\"><div class=\"venueData\"><span class=\"venueDataItem\"><span class=\"categoryName\">Coffee Shop</span><span class=\"delim\"> • </span></span></div><div class=\"venueAddress\">1813 N Milwaukee Ave (Leavitt), Chicago</div></div></div></div>\n",
      "18.*****<div class=\"venueDetails\"><div class=\"venueScore positive\" style=\"background-color: #00B551;\" title=\"9.4/10 - People like this place\">9.4</div><div class=\"venueName\"><h2><span class=\"venueIndex\">19</span>. <a href=\"/v/thalia-hall/4b6cfef5f964a52026622ce3\" target=\"_blank\">Thalia Hall</a></h2></div><div class=\"venueMeta\"><div class=\"venueAddressData\"><div class=\"venueData\"><span class=\"venueDataItem\"><span class=\"categoryName\">Rock Club</span><span class=\"delim\"> • </span></span></div><div class=\"venueAddress\">1807 S Allport St (at 18th St), Chicago</div></div></div></div>\n",
      "19.*****<div class=\"venueDetails\"><div class=\"venueScore positive\" style=\"background-color: #00B551;\" title=\"9.4/10 - People like this place\">9.4</div><div class=\"venueName\"><h2><span class=\"venueIndex\">20</span>. <a href=\"/v/music-box-theatre/42e82000f964a52086261fe3\" target=\"_blank\">Music Box Theatre</a></h2></div><div class=\"venueMeta\"><div class=\"venueAddressData\"><div class=\"venueData\"><span class=\"venueDataItem\"><span class=\"categoryName\">Indie Movies</span><span class=\"delim\"> • </span></span><span class=\"linkToMenu venueDataItem\"><a class=\"menuLink\" href=\"https://foursquare.com/v/music-box-theatre/42e82000f964a52086261fe3/menu\" target=\"_blank\">View Prices</a><span class=\"delim\"> • </span></span></div><div class=\"venueAddress\">3733 N Southport Ave (btwn Grace St &amp; Waveland Ave), Chicago</div></div></div></div>\n",
      "20.*****<div class=\"venueDetails\"><div class=\"venueScore positive\" style=\"background-color: #00B551;\" title=\"9.4/10 - People like this place\">9.4</div><div class=\"venueName\"><h2><span class=\"venueIndex\">21</span>. <a href=\"/v/maggie-daley-park/50b69e52e4b023feffc3b3ae\" target=\"_blank\">Maggie Daley Park</a></h2></div><div class=\"venueMeta\"><div class=\"venueAddressData\"><div class=\"venueData\"><span class=\"venueDataItem\"><span class=\"categoryName\">Park</span><span class=\"delim\"> • </span></span></div><div class=\"venueAddress\">337 E Randolph Dr (btwn Lake Shore Dr &amp; Columbus Dr), Chicago</div></div></div></div>\n",
      "21.*****<div class=\"venueDetails\"><div class=\"venueScore positive\" style=\"background-color: #00B551;\" title=\"9.4/10 - People like this place\">9.4</div><div class=\"venueName\"><h2><span class=\"venueIndex\">22</span>. <a href=\"/v/ghirardelli-ice-cream--chocolate-shop/55920187498ecdbb2b627305\" target=\"_blank\">Ghirardelli Ice Cream &amp; Chocolate Shop</a></h2></div><div class=\"venueMeta\"><div class=\"venueAddressData\"><div class=\"venueData\"><span class=\"venueDataItem\"><span class=\"categoryName\">Chocolate Shop</span><span class=\"delim\"> • </span></span><span class=\"linkToMenu venueDataItem\"><a class=\"menuLink\" href=\"https://foursquare.com/v/ghirardelli-ice-cream--chocolate-shop/55920187498ecdbb2b627305/menu\" target=\"_blank\">View Products</a><span class=\"delim\"> • </span></span></div><div class=\"venueAddress\">400 N Michigan Ave, Chicago</div></div></div></div>\n",
      "22.*****<div class=\"venueDetails\"><div class=\"venueScore positive\" style=\"background-color: #00B551;\" title=\"9.4/10 - People like this place\">9.4</div><div class=\"venueName\"><h2><span class=\"venueIndex\">23</span>. <a href=\"/v/jay-pritzker-pavilion/4a461376f964a52085a81fe3\" target=\"_blank\">Jay Pritzker Pavilion</a></h2></div><div class=\"venueMeta\"><div class=\"venueAddressData\"><div class=\"venueData\"><span class=\"venueDataItem\"><span class=\"categoryName\">Amphitheater</span><span class=\"delim\"> • </span></span><span class=\"venueDataItem\"><span class=\"price\" title=\"Cheap\"><span class=\"darken\" itemprop=\"priceRange\">$</span>$$$</span><span class=\"delim\"> • </span></span></div><div class=\"venueAddress\">201 E Randolph St (btwn Columbus Dr &amp; Michigan Ave), Chicago</div></div></div></div>\n",
      "23.*****<div class=\"venueDetails\"><div class=\"venueScore positive\" style=\"background-color: #00B551;\" title=\"9.4/10 - People like this place\">9.4</div><div class=\"venueName\"><h2><span class=\"venueIndex\">24</span>. <a href=\"/v/steppenwolf-theatre-company/4b240297f964a520055f24e3\" target=\"_blank\">Steppenwolf Theatre Company</a></h2></div><div class=\"venueMeta\"><div class=\"venueAddressData\"><div class=\"venueData\"><span class=\"venueDataItem\"><span class=\"categoryName\">Theater</span><span class=\"delim\"> • </span></span></div><div class=\"venueAddress\">1650 N Halsted St (btwn Willow St &amp; North Ave), Chicago</div></div></div></div>\n",
      "24.*****<div class=\"venueDetails\"><div class=\"venueScore positive\" style=\"background-color: #00B551;\" title=\"9.4/10 - People like this place\">9.4</div><div class=\"venueName\"><h2><span class=\"venueIndex\">25</span>. <a href=\"/v/the-original-rainbow-cone/4bb7a566cf2fc9b6d98e9e02\" target=\"_blank\">The Original Rainbow Cone</a></h2></div><div class=\"venueMeta\"><div class=\"venueAddressData\"><div class=\"venueData\"><span class=\"venueDataItem\"><span class=\"categoryName\">Ice Cream</span><span class=\"delim\"> • </span></span><span class=\"venueDataItem\"><span class=\"price\" title=\"Cheap\"><span class=\"darken\" itemprop=\"priceRange\">$</span>$$$</span><span class=\"delim\"> • </span></span><span class=\"linkToMenu venueDataItem\"><a class=\"menuLink\" href=\"https://foursquare.com/v/the-original-rainbow-cone/4bb7a566cf2fc9b6d98e9e02/menu\" target=\"_blank\">View Menu</a><span class=\"delim\"> • </span></span></div><div class=\"venueAddress\">9233 S Western Ave (at 92nd Pl), Chicago</div></div></div></div>\n",
      "25.*****<div class=\"venueDetails\"><div class=\"venueScore positive\" style=\"background-color: #00B551;\" title=\"9.4/10 - People like this place\">9.4</div><div class=\"venueName\"><h2><span class=\"venueIndex\">26</span>. <a href=\"/v/aba/5b1854154a7aae002cbe8e62\" target=\"_blank\">Aba</a></h2></div><div class=\"venueMeta\"><div class=\"venueAddressData\"><div class=\"venueData\"><span class=\"venueDataItem\"><span class=\"categoryName\">Mediterranean</span><span class=\"delim\"> • </span></span></div><div class=\"venueAddress\">302 N Green St (Fulton St), Chicago</div></div></div></div>\n",
      "26.*****<div class=\"venueDetails\"><div class=\"venueScore positive\" style=\"background-color: #00B551;\" title=\"9.3/10 - People like this place\">9.3</div><div class=\"venueName\"><h2><span class=\"venueIndex\">27</span>. <a href=\"/v/the-second-city/40b28c80f964a52059fc1ee3\" target=\"_blank\">The Second City</a></h2></div><div class=\"venueMeta\"><div class=\"venueAddressData\"><div class=\"venueData\"><span class=\"venueDataItem\"><span class=\"categoryName\">Comedy Club</span><span class=\"delim\"> • </span></span></div><div class=\"venueAddress\">1616 N Wells St (btwn Concord Ln &amp; North Ave), Chicago</div></div></div></div>\n",
      "27.*****<div class=\"venueDetails\"><div class=\"venueScore positive\" style=\"background-color: #00B551;\" title=\"9.3/10 - People like this place\">9.3</div><div class=\"venueName\"><h2><span class=\"venueIndex\">28</span>. <a href=\"/v/adams--son-gardens/4b0d1cf0f964a520e84323e3\" target=\"_blank\">Adams &amp; Son Gardens</a></h2></div><div class=\"venueMeta\"><div class=\"venueAddressData\"><div class=\"venueData\"><span class=\"venueDataItem\"><span class=\"categoryName\">Flower Shop</span><span class=\"delim\"> • </span></span></div><div class=\"venueAddress\">1057 N California Ave (at Thomas), Chicago</div></div></div></div>\n",
      "28.*****<div class=\"venueDetails\"><div class=\"venueScore positive\" style=\"background-color: #00B551;\" title=\"9.3/10 - People like this place\">9.3</div><div class=\"venueName\"><h2><span class=\"venueIndex\">29</span>. <a href=\"/v/green-city-market/4a58b7caf964a520b4b71fe3\" target=\"_blank\">Green City Market</a></h2></div><div class=\"venueMeta\"><div class=\"venueAddressData\"><div class=\"venueData\"><span class=\"venueDataItem\"><span class=\"categoryName\">Farmer's Market</span><span class=\"delim\"> • </span></span></div><div class=\"venueAddress\">1790 N Clark St (btwn Dickens Ave &amp; LaSalle Dr), Chicago</div></div></div></div>\n",
      "29.*****<div class=\"venueDetails\"><div class=\"venueScore positive\" style=\"background-color: #00B551;\" title=\"9.3/10 - People like this place\">9.3</div><div class=\"venueName\"><h2><span class=\"venueIndex\">30</span>. <a href=\"/v/heritage-bicycles/4e55255f6365b59a57f7b10b\" target=\"_blank\">Heritage Bicycles</a></h2></div><div class=\"venueMeta\"><div class=\"venueAddressData\"><div class=\"venueData\"><span class=\"venueDataItem\"><span class=\"categoryName\">Coffee Shop</span><span class=\"delim\"> • </span></span><span class=\"linkToMenu venueDataItem\"><a class=\"menuLink\" href=\"https://foursquare.com/v/heritage-bicycles/4e55255f6365b59a57f7b10b/menu\" target=\"_blank\">View Menu</a><span class=\"delim\"> • </span></span></div><div class=\"venueAddress\">2959 N Lincoln Avenue (Wellington), Chicago</div></div></div></div>\n"
     ]
    }
   ],
   "source": [
    "# The column names for the top venues dataframe\n",
    "venue_columns = ['id', \n",
    "                 'score', \n",
    "                 'category', \n",
    "                 'name', \n",
    "                 'address',\n",
    "                 'postalcode',\n",
    "                 'city',\n",
    "                 'href', \n",
    "                 'latitude', \n",
    "                 'longitude']\n",
    "\n",
    "# Create the empty top venues dataframe\n",
    "df_top_venues = pd.DataFrame(columns=venue_columns)\n",
    "\n",
    "# For each venue in the BeautifulSoup HTML object\n",
    "i = 0\n",
    "for venue in top_venues:\n",
    "        print('{}.{}'.format(i,venue))\n",
    "        i = i+1\n",
    "        "
   ]
  },
  {
   "cell_type": "code",
   "execution_count": 67,
   "metadata": {},
   "outputs": [
    {
     "ename": "NameError",
     "evalue": "name 't' is not defined",
     "output_type": "error",
     "traceback": [
      "\u001b[1;31m---------------------------------------------------------------------------\u001b[0m",
      "\u001b[1;31mNameError\u001b[0m                                 Traceback (most recent call last)",
      "\u001b[1;32m<ipython-input-67-34fc7a11cb38>\u001b[0m in \u001b[0;36m<module>\u001b[1;34m()\u001b[0m\n\u001b[1;32m----> 1\u001b[1;33m \u001b[0mt\u001b[0m\u001b[1;33m\u001b[0m\u001b[0m\n\u001b[0m",
      "\u001b[1;31mNameError\u001b[0m: name 't' is not defined"
     ]
    }
   ],
   "source": [
    "t"
   ]
  },
  {
   "cell_type": "code",
   "execution_count": 59,
   "metadata": {},
   "outputs": [
    {
     "ename": "KeyError",
     "evalue": "'venue'",
     "output_type": "error",
     "traceback": [
      "\u001b[1;31m---------------------------------------------------------------------------\u001b[0m",
      "\u001b[1;31mKeyError\u001b[0m                                  Traceback (most recent call last)",
      "\u001b[1;32m<ipython-input-59-b60603fc0166>\u001b[0m in \u001b[0;36m<module>\u001b[1;34m()\u001b[0m\n\u001b[0;32m     38\u001b[0m \u001b[1;33m\u001b[0m\u001b[0m\n\u001b[0;32m     39\u001b[0m     \u001b[1;31m# Get the properly formatted address and the latitude and longitude\u001b[0m\u001b[1;33m\u001b[0m\u001b[1;33m\u001b[0m\u001b[0m\n\u001b[1;32m---> 40\u001b[1;33m     \u001b[0mvenue_address\u001b[0m \u001b[1;33m=\u001b[0m \u001b[0mresult\u001b[0m\u001b[1;33m[\u001b[0m\u001b[1;34m'response'\u001b[0m\u001b[1;33m]\u001b[0m\u001b[1;33m[\u001b[0m\u001b[1;34m'venue'\u001b[0m\u001b[1;33m]\u001b[0m\u001b[1;33m[\u001b[0m\u001b[1;34m'location'\u001b[0m\u001b[1;33m]\u001b[0m\u001b[1;33m[\u001b[0m\u001b[1;34m'address'\u001b[0m\u001b[1;33m]\u001b[0m\u001b[1;33m\u001b[0m\u001b[0m\n\u001b[0m\u001b[0;32m     41\u001b[0m     \u001b[0mvenue_postalcode\u001b[0m \u001b[1;33m=\u001b[0m \u001b[0mresult\u001b[0m\u001b[1;33m[\u001b[0m\u001b[1;34m'response'\u001b[0m\u001b[1;33m]\u001b[0m\u001b[1;33m[\u001b[0m\u001b[1;34m'venue'\u001b[0m\u001b[1;33m]\u001b[0m\u001b[1;33m[\u001b[0m\u001b[1;34m'location'\u001b[0m\u001b[1;33m]\u001b[0m\u001b[1;33m[\u001b[0m\u001b[1;34m'postalCode'\u001b[0m\u001b[1;33m]\u001b[0m\u001b[1;33m\u001b[0m\u001b[0m\n\u001b[0;32m     42\u001b[0m     \u001b[0mvenue_city\u001b[0m \u001b[1;33m=\u001b[0m \u001b[0mresult\u001b[0m\u001b[1;33m[\u001b[0m\u001b[1;34m'response'\u001b[0m\u001b[1;33m]\u001b[0m\u001b[1;33m[\u001b[0m\u001b[1;34m'venue'\u001b[0m\u001b[1;33m]\u001b[0m\u001b[1;33m[\u001b[0m\u001b[1;34m'location'\u001b[0m\u001b[1;33m]\u001b[0m\u001b[1;33m[\u001b[0m\u001b[1;34m'city'\u001b[0m\u001b[1;33m]\u001b[0m\u001b[1;33m\u001b[0m\u001b[0m\n",
      "\u001b[1;31mKeyError\u001b[0m: 'venue'"
     ]
    }
   ],
   "source": [
    "\n",
    "    # Get the properly formatted address and the latitude and longitude\n",
    "    venue_address = result['response']['venue']['location']['address']\n",
    "    venue_postalcode = result['response']['venue']['location']['postalCode']\n",
    "    venue_city = result['response']['venue']['location']['city']\n",
    "    venue_latitude = result['response']['venue']['location']['lat']\n",
    "    venue_longitude = result['response']['venue']['location']['lng']\n",
    "    \n",
    "    # Add the venue to the top venues dataframe\n",
    "    df_top_venues = df_top_venues.append({'id': venue_id,\n",
    "                                          'score': venue_score,\n",
    "                                          'category': venue_cat,\n",
    "                                          'name': venue_name,\n",
    "                                          'address': venue_address,\n",
    "                                          'postalcode': venue_postalcode,\n",
    "                                          'city': venue_city,\n",
    "                                          'href': venue_href,\n",
    "                                          'latitude': venue_latitude,\n",
    "                                          'longitude': venue_longitude}, ignore_index=True)"
   ]
  },
  {
   "cell_type": "code",
   "execution_count": 55,
   "metadata": {},
   "outputs": [
    {
     "data": {
      "text/plain": [
       "{'meta': {'code': 429,\n",
       "  'errorDetail': 'Quota exceeded',\n",
       "  'errorType': 'quota_exceeded',\n",
       "  'requestId': '5f00d0d0d2caaa488eee8b68'},\n",
       " 'response': {}}"
      ]
     },
     "execution_count": 55,
     "metadata": {},
     "output_type": "execute_result"
    }
   ],
   "source": [
    "result"
   ]
  },
  {
   "cell_type": "code",
   "execution_count": 50,
   "metadata": {},
   "outputs": [
    {
     "ename": "KeyError",
     "evalue": "'venue'",
     "output_type": "error",
     "traceback": [
      "\u001b[1;31m---------------------------------------------------------------------------\u001b[0m",
      "\u001b[1;31mKeyError\u001b[0m                                  Traceback (most recent call last)",
      "\u001b[1;32m<ipython-input-50-b60603fc0166>\u001b[0m in \u001b[0;36m<module>\u001b[1;34m()\u001b[0m\n\u001b[0;32m     38\u001b[0m \u001b[1;33m\u001b[0m\u001b[0m\n\u001b[0;32m     39\u001b[0m     \u001b[1;31m# Get the properly formatted address and the latitude and longitude\u001b[0m\u001b[1;33m\u001b[0m\u001b[1;33m\u001b[0m\u001b[0m\n\u001b[1;32m---> 40\u001b[1;33m     \u001b[0mvenue_address\u001b[0m \u001b[1;33m=\u001b[0m \u001b[0mresult\u001b[0m\u001b[1;33m[\u001b[0m\u001b[1;34m'response'\u001b[0m\u001b[1;33m]\u001b[0m\u001b[1;33m[\u001b[0m\u001b[1;34m'venue'\u001b[0m\u001b[1;33m]\u001b[0m\u001b[1;33m[\u001b[0m\u001b[1;34m'location'\u001b[0m\u001b[1;33m]\u001b[0m\u001b[1;33m[\u001b[0m\u001b[1;34m'address'\u001b[0m\u001b[1;33m]\u001b[0m\u001b[1;33m\u001b[0m\u001b[0m\n\u001b[0m\u001b[0;32m     41\u001b[0m     \u001b[0mvenue_postalcode\u001b[0m \u001b[1;33m=\u001b[0m \u001b[0mresult\u001b[0m\u001b[1;33m[\u001b[0m\u001b[1;34m'response'\u001b[0m\u001b[1;33m]\u001b[0m\u001b[1;33m[\u001b[0m\u001b[1;34m'venue'\u001b[0m\u001b[1;33m]\u001b[0m\u001b[1;33m[\u001b[0m\u001b[1;34m'location'\u001b[0m\u001b[1;33m]\u001b[0m\u001b[1;33m[\u001b[0m\u001b[1;34m'postalCode'\u001b[0m\u001b[1;33m]\u001b[0m\u001b[1;33m\u001b[0m\u001b[0m\n\u001b[0;32m     42\u001b[0m     \u001b[0mvenue_city\u001b[0m \u001b[1;33m=\u001b[0m \u001b[0mresult\u001b[0m\u001b[1;33m[\u001b[0m\u001b[1;34m'response'\u001b[0m\u001b[1;33m]\u001b[0m\u001b[1;33m[\u001b[0m\u001b[1;34m'venue'\u001b[0m\u001b[1;33m]\u001b[0m\u001b[1;33m[\u001b[0m\u001b[1;34m'location'\u001b[0m\u001b[1;33m]\u001b[0m\u001b[1;33m[\u001b[0m\u001b[1;34m'city'\u001b[0m\u001b[1;33m]\u001b[0m\u001b[1;33m\u001b[0m\u001b[0m\n",
      "\u001b[1;31mKeyError\u001b[0m: 'venue'"
     ]
    }
   ],
   "source": [
    "# The column names for the top venues dataframe\n",
    "venue_columns = ['id', \n",
    "                 'score', \n",
    "                 'category', \n",
    "                 'name', \n",
    "                 'address',\n",
    "                 'postalcode',\n",
    "                 'city',\n",
    "                 'href', \n",
    "                 'latitude', \n",
    "                 'longitude']\n",
    "\n",
    "# Create the empty top venues dataframe\n",
    "df_top_venues = pd.DataFrame(columns=venue_columns)\n",
    "\n",
    "# For each venue in the BeautifulSoup HTML object\n",
    "for venue in top_venues:\n",
    "    \n",
    "    # Extract the available attributes\n",
    "    venue_name = venue.find(target=\"_blank\").get_text()\n",
    "    venue_score = venue.find(class_=\"venueScore positive\").get_text()\n",
    "    venue_cat = venue.find(class_=\"categoryName\").get_text()\n",
    "    venue_href = venue.find(class_=\"venueName\").h2.a['href']\n",
    "    venue_id = venue_href.split('/')[-1]\n",
    "\n",
    "    if 'promotedTipId' in venue_id: \n",
    "        continue\n",
    "        \n",
    "    # Contruct the FourSquare venue API URL\n",
    "    url = 'https://api.foursquare.com/v2/venues/{}?client_id={}&client_secret={}&v={}'.format(\n",
    "        venue_id, \n",
    "        cfg['client_id'],\n",
    "        cfg['client_secret'],\n",
    "        cfg['version'])\n",
    "    \n",
    "    # Request the venue data\n",
    "    result = requests.get(url).json()\n",
    "        \n",
    "    # Get the properly formatted address and the latitude and longitude\n",
    "    venue_address = result['response']['venue']['location']['address']\n",
    "    venue_postalcode = result['response']['venue']['location']['postalCode']\n",
    "    venue_city = result['response']['venue']['location']['city']\n",
    "    venue_latitude = result['response']['venue']['location']['lat']\n",
    "    venue_longitude = result['response']['venue']['location']['lng']\n",
    "    \n",
    "    # Add the venue to the top venues dataframe\n",
    "    df_top_venues = df_top_venues.append({'id': venue_id,\n",
    "                                          'score': venue_score,\n",
    "                                          'category': venue_cat,\n",
    "                                          'name': venue_name,\n",
    "                                          'address': venue_address,\n",
    "                                          'postalcode': venue_postalcode,\n",
    "                                          'city': venue_city,\n",
    "                                          'href': venue_href,\n",
    "                                          'latitude': venue_latitude,\n",
    "                                          'longitude': venue_longitude}, ignore_index=True)"
   ]
  },
  {
   "cell_type": "code",
   "execution_count": 41,
   "metadata": {},
   "outputs": [
    {
     "data": {
      "text/plain": [
       "bs4.element.ResultSet"
      ]
     },
     "execution_count": 41,
     "metadata": {},
     "output_type": "execute_result"
    }
   ],
   "source": [
    "type(top_venues)"
   ]
  },
  {
   "cell_type": "code",
   "execution_count": 42,
   "metadata": {},
   "outputs": [
    {
     "ename": "KeyError",
     "evalue": "'venue'",
     "output_type": "error",
     "traceback": [
      "\u001b[1;31m---------------------------------------------------------------------------\u001b[0m",
      "\u001b[1;31mKeyError\u001b[0m                                  Traceback (most recent call last)",
      "\u001b[1;32m<ipython-input-42-f80bfeac8205>\u001b[0m in \u001b[0;36m<module>\u001b[1;34m()\u001b[0m\n\u001b[0;32m     23\u001b[0m \u001b[1;33m\u001b[0m\u001b[0m\n\u001b[0;32m     24\u001b[0m     \u001b[1;31m# Get the properly formatted address and the latitude and longitude\u001b[0m\u001b[1;33m\u001b[0m\u001b[1;33m\u001b[0m\u001b[0m\n\u001b[1;32m---> 25\u001b[1;33m     \u001b[0mvenue_address\u001b[0m \u001b[1;33m=\u001b[0m \u001b[0mresult\u001b[0m\u001b[1;33m[\u001b[0m\u001b[1;34m'response'\u001b[0m\u001b[1;33m]\u001b[0m\u001b[1;33m[\u001b[0m\u001b[1;34m'venue'\u001b[0m\u001b[1;33m]\u001b[0m\u001b[1;33m[\u001b[0m\u001b[1;34m'location'\u001b[0m\u001b[1;33m]\u001b[0m\u001b[1;33m[\u001b[0m\u001b[1;34m'address'\u001b[0m\u001b[1;33m]\u001b[0m\u001b[1;33m\u001b[0m\u001b[0m\n\u001b[0m\u001b[0;32m     26\u001b[0m     \u001b[0mvenue_postalcode\u001b[0m \u001b[1;33m=\u001b[0m \u001b[0mresult\u001b[0m\u001b[1;33m[\u001b[0m\u001b[1;34m'response'\u001b[0m\u001b[1;33m]\u001b[0m\u001b[1;33m[\u001b[0m\u001b[1;34m'venue'\u001b[0m\u001b[1;33m]\u001b[0m\u001b[1;33m[\u001b[0m\u001b[1;34m'location'\u001b[0m\u001b[1;33m]\u001b[0m\u001b[1;33m[\u001b[0m\u001b[1;34m'postalCode'\u001b[0m\u001b[1;33m]\u001b[0m\u001b[1;33m\u001b[0m\u001b[0m\n\u001b[0;32m     27\u001b[0m     \u001b[0mvenue_city\u001b[0m \u001b[1;33m=\u001b[0m \u001b[0mresult\u001b[0m\u001b[1;33m[\u001b[0m\u001b[1;34m'response'\u001b[0m\u001b[1;33m]\u001b[0m\u001b[1;33m[\u001b[0m\u001b[1;34m'venue'\u001b[0m\u001b[1;33m]\u001b[0m\u001b[1;33m[\u001b[0m\u001b[1;34m'location'\u001b[0m\u001b[1;33m]\u001b[0m\u001b[1;33m[\u001b[0m\u001b[1;34m'city'\u001b[0m\u001b[1;33m]\u001b[0m\u001b[1;33m\u001b[0m\u001b[0m\n",
      "\u001b[1;31mKeyError\u001b[0m: 'venue'"
     ]
    }
   ],
   "source": [
    "# For each venue in the BeautifulSoup HTML object\n",
    "for venue in top_venues:\n",
    "    \n",
    "    # Extract the available attributes\n",
    "    venue_name = venue.find(target=\"_blank\").get_text()\n",
    "    venue_score = venue.find(class_=\"venueScore positive\").get_text()\n",
    "    venue_cat = venue.find(class_=\"categoryName\").get_text()\n",
    "    venue_href = venue.find(class_=\"venueName\").h2.a['href']\n",
    "    venue_id = venue_href.split('/')[-1]\n",
    "\n",
    "    if 'promotedTipId' in venue_id: \n",
    "        continue\n",
    "        \n",
    "    # Contruct the FourSquare venue API URL\n",
    "    url = 'https://api.foursquare.com/v2/venues/{}?client_id={}&client_secret={}&v={}'.format(\n",
    "        venue_id, \n",
    "        cfg['client_id'],\n",
    "        cfg['client_secret'],\n",
    "        cfg['version'])\n",
    "    \n",
    "    # Request the venue data\n",
    "    result = requests.get(url).json()\n",
    "        \n",
    "    # Get the properly formatted address and the latitude and longitude\n",
    "    venue_address = result['response']['venue']['location']['address']\n",
    "    venue_postalcode = result['response']['venue']['location']['postalCode']\n",
    "    venue_city = result['response']['venue']['location']['city']\n",
    "    venue_latitude = result['response']['venue']['location']['lat']\n",
    "    venue_longitude = result['response']['venue']['location']['lng']\n",
    "    \n",
    "    # Add the venue to the top venues dataframe\n",
    "    df_top_venues = df_top_venues.append({'id': venue_id,\n",
    "                                          'score': venue_score,\n",
    "                                          'category': venue_cat,\n",
    "                                          'name': venue_name,\n",
    "                                          'address': venue_address,\n",
    "                                          'postalcode': venue_postalcode,\n",
    "                                          'city': venue_city,\n",
    "                                          'href': venue_href,\n",
    "                                          'latitude': venue_latitude,\n",
    "                                          'longitude': venue_longitude}, ignore_index=True)"
   ]
  },
  {
   "cell_type": "code",
   "execution_count": null,
   "metadata": {},
   "outputs": [],
   "source": []
  }
 ],
 "metadata": {
  "kernelspec": {
   "display_name": "Python 3",
   "language": "python",
   "name": "python3"
  },
  "language_info": {
   "codemirror_mode": {
    "name": "ipython",
    "version": 3
   },
   "file_extension": ".py",
   "mimetype": "text/x-python",
   "name": "python",
   "nbconvert_exporter": "python",
   "pygments_lexer": "ipython3",
   "version": "3.6.4"
  }
 },
 "nbformat": 4,
 "nbformat_minor": 2
}
