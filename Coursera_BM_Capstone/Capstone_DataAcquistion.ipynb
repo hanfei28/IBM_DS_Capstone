{
 "cells": [
  {
   "cell_type": "code",
   "execution_count": 1,
   "metadata": {},
   "outputs": [],
   "source": [
    "\n",
    "# Import Pandas to provide DataFrame support\n",
    "import pandas as pd\n",
    "pd.set_option('display.max_columns', None)\n",
    "pd.set_option('display.max_rows', None)\n",
    "\n",
    "# Import Requests\n",
    "import requests\n",
    "\n",
    "# Import BeautifulSoup\n",
    "from bs4 import BeautifulSoup"
   ]
  },
  {
   "cell_type": "code",
   "execution_count": 12,
   "metadata": {},
   "outputs": [],
   "source": [
    "# yaml is used to store some of the required configurations\n",
    "import yaml\n",
    "import os\n",
    "\n",
    "\n",
    "with open(os.getcwd()+\"\\\\data\\\\config.txt\", \"r\") as f:\n",
    "    cfg = yaml.load(f,Loader=yaml.FullLoader)\n",
    " \n",
    "search_params = {\n",
    "    'client_id': cfg['client_id'],\n",
    "    'client_secret': cfg['client_secret'],\n",
    "    'intent': 'browse',\n",
    "    'limit': 50,\n",
    "    'v': cfg['version']\n",
    "}"
   ]
  },
  {
   "cell_type": "code",
   "execution_count": 13,
   "metadata": {},
   "outputs": [],
   "source": [
    "# Use the Requests get method to request the top sites in Chicago\n",
    "page = requests.get(\n",
    "    \"https://foursquare.com/explore?mode=url&near=Chicago%2C%20IL%2C%20United%20States&nearGeoId=72057594042815334&q=Top%20Picks\")\n",
    "\n",
    "# Convert the HTML response into a BeautifulSoup Object\n",
    "soup = BeautifulSoup(page.content, 'html.parser')\n",
    "\n",
    "# Use the BeautifulSoup find_all method to extract each top site venue details.\n",
    "top_venues = soup.find_all('div', class_='venueDetails')"
   ]
  },
  {
   "cell_type": "code",
   "execution_count": 24,
   "metadata": {},
   "outputs": [
    {
     "name": "stdout",
     "output_type": "stream",
     "text": [
      "https://api.foursquare.com/v2/venues/4c23e840a852c928594ae26c?client_id=I3GASL15SVBG55NYCBB1MUJTV2TY1SUNP13OENTMFQX3PRFU&client_secret=ZD0P1HKFZNWREIOXHZE3VCFRZLTAC3XARJFRCCXBRRAY0OYS&v=20180604\n",
      "https://api.foursquare.com/v2/venues/42b75880f964a52090251fe3?client_id=I3GASL15SVBG55NYCBB1MUJTV2TY1SUNP13OENTMFQX3PRFU&client_secret=ZD0P1HKFZNWREIOXHZE3VCFRZLTAC3XARJFRCCXBRRAY0OYS&v=20180604\n",
      "https://api.foursquare.com/v2/venues/4b9d15c5f964a520478e36e3?client_id=I3GASL15SVBG55NYCBB1MUJTV2TY1SUNP13OENTMFQX3PRFU&client_secret=ZD0P1HKFZNWREIOXHZE3VCFRZLTAC3XARJFRCCXBRRAY0OYS&v=20180604\n",
      "https://api.foursquare.com/v2/venues/4b06c066f964a52097ef22e3?client_id=I3GASL15SVBG55NYCBB1MUJTV2TY1SUNP13OENTMFQX3PRFU&client_secret=ZD0P1HKFZNWREIOXHZE3VCFRZLTAC3XARJFRCCXBRRAY0OYS&v=20180604\n",
      "https://api.foursquare.com/v2/venues/4f2a0d0ae4b0837d0c4c2bc3?client_id=I3GASL15SVBG55NYCBB1MUJTV2TY1SUNP13OENTMFQX3PRFU&client_secret=ZD0P1HKFZNWREIOXHZE3VCFRZLTAC3XARJFRCCXBRRAY0OYS&v=20180604\n",
      "https://api.foursquare.com/v2/venues/4c47533649fa9521cb1f5e62?client_id=I3GASL15SVBG55NYCBB1MUJTV2TY1SUNP13OENTMFQX3PRFU&client_secret=ZD0P1HKFZNWREIOXHZE3VCFRZLTAC3XARJFRCCXBRRAY0OYS&v=20180604\n",
      "https://api.foursquare.com/v2/venues/49e9ef74f964a52011661fe3?client_id=I3GASL15SVBG55NYCBB1MUJTV2TY1SUNP13OENTMFQX3PRFU&client_secret=ZD0P1HKFZNWREIOXHZE3VCFRZLTAC3XARJFRCCXBRRAY0OYS&v=20180604\n",
      "https://api.foursquare.com/v2/venues/4a6e8003f964a520d5d41fe3?client_id=I3GASL15SVBG55NYCBB1MUJTV2TY1SUNP13OENTMFQX3PRFU&client_secret=ZD0P1HKFZNWREIOXHZE3VCFRZLTAC3XARJFRCCXBRRAY0OYS&v=20180604\n",
      "https://api.foursquare.com/v2/venues/4a9046daf964a520ff1620e3?client_id=I3GASL15SVBG55NYCBB1MUJTV2TY1SUNP13OENTMFQX3PRFU&client_secret=ZD0P1HKFZNWREIOXHZE3VCFRZLTAC3XARJFRCCXBRRAY0OYS&v=20180604\n",
      "https://api.foursquare.com/v2/venues/4aa05f40f964a520643f20e3?client_id=I3GASL15SVBG55NYCBB1MUJTV2TY1SUNP13OENTMFQX3PRFU&client_secret=ZD0P1HKFZNWREIOXHZE3VCFRZLTAC3XARJFRCCXBRRAY0OYS&v=20180604\n",
      "https://api.foursquare.com/v2/venues/4b9511c7f964a520f38d34e3?client_id=I3GASL15SVBG55NYCBB1MUJTV2TY1SUNP13OENTMFQX3PRFU&client_secret=ZD0P1HKFZNWREIOXHZE3VCFRZLTAC3XARJFRCCXBRRAY0OYS&v=20180604\n",
      "https://api.foursquare.com/v2/venues/4adfca6df964a520777d21e3?client_id=I3GASL15SVBG55NYCBB1MUJTV2TY1SUNP13OENTMFQX3PRFU&client_secret=ZD0P1HKFZNWREIOXHZE3VCFRZLTAC3XARJFRCCXBRRAY0OYS&v=20180604\n",
      "https://api.foursquare.com/v2/venues/4b9a32a0f964a5200aa435e3?client_id=I3GASL15SVBG55NYCBB1MUJTV2TY1SUNP13OENTMFQX3PRFU&client_secret=ZD0P1HKFZNWREIOXHZE3VCFRZLTAC3XARJFRCCXBRRAY0OYS&v=20180604\n",
      "https://api.foursquare.com/v2/venues/5b15ed56cbcdee002c59b8e8?client_id=I3GASL15SVBG55NYCBB1MUJTV2TY1SUNP13OENTMFQX3PRFU&client_secret=ZD0P1HKFZNWREIOXHZE3VCFRZLTAC3XARJFRCCXBRRAY0OYS&v=20180604\n",
      "https://api.foursquare.com/v2/venues/4dfc110145ddebdfeaa9754e?client_id=I3GASL15SVBG55NYCBB1MUJTV2TY1SUNP13OENTMFQX3PRFU&client_secret=ZD0P1HKFZNWREIOXHZE3VCFRZLTAC3XARJFRCCXBRRAY0OYS&v=20180604\n",
      "https://api.foursquare.com/v2/venues/4f6b838d7bebf48a25686d52?client_id=I3GASL15SVBG55NYCBB1MUJTV2TY1SUNP13OENTMFQX3PRFU&client_secret=ZD0P1HKFZNWREIOXHZE3VCFRZLTAC3XARJFRCCXBRRAY0OYS&v=20180604\n",
      "https://api.foursquare.com/v2/venues/49dce128f964a520b65f1fe3?client_id=I3GASL15SVBG55NYCBB1MUJTV2TY1SUNP13OENTMFQX3PRFU&client_secret=ZD0P1HKFZNWREIOXHZE3VCFRZLTAC3XARJFRCCXBRRAY0OYS&v=20180604\n",
      "https://api.foursquare.com/v2/venues/5743c846498ec47db1127412?client_id=I3GASL15SVBG55NYCBB1MUJTV2TY1SUNP13OENTMFQX3PRFU&client_secret=ZD0P1HKFZNWREIOXHZE3VCFRZLTAC3XARJFRCCXBRRAY0OYS&v=20180604\n",
      "https://api.foursquare.com/v2/venues/4b6cfef5f964a52026622ce3?client_id=I3GASL15SVBG55NYCBB1MUJTV2TY1SUNP13OENTMFQX3PRFU&client_secret=ZD0P1HKFZNWREIOXHZE3VCFRZLTAC3XARJFRCCXBRRAY0OYS&v=20180604\n",
      "https://api.foursquare.com/v2/venues/42e82000f964a52086261fe3?client_id=I3GASL15SVBG55NYCBB1MUJTV2TY1SUNP13OENTMFQX3PRFU&client_secret=ZD0P1HKFZNWREIOXHZE3VCFRZLTAC3XARJFRCCXBRRAY0OYS&v=20180604\n",
      "https://api.foursquare.com/v2/venues/50b69e52e4b023feffc3b3ae?client_id=I3GASL15SVBG55NYCBB1MUJTV2TY1SUNP13OENTMFQX3PRFU&client_secret=ZD0P1HKFZNWREIOXHZE3VCFRZLTAC3XARJFRCCXBRRAY0OYS&v=20180604\n",
      "https://api.foursquare.com/v2/venues/55920187498ecdbb2b627305?client_id=I3GASL15SVBG55NYCBB1MUJTV2TY1SUNP13OENTMFQX3PRFU&client_secret=ZD0P1HKFZNWREIOXHZE3VCFRZLTAC3XARJFRCCXBRRAY0OYS&v=20180604\n",
      "https://api.foursquare.com/v2/venues/4a461376f964a52085a81fe3?client_id=I3GASL15SVBG55NYCBB1MUJTV2TY1SUNP13OENTMFQX3PRFU&client_secret=ZD0P1HKFZNWREIOXHZE3VCFRZLTAC3XARJFRCCXBRRAY0OYS&v=20180604\n",
      "https://api.foursquare.com/v2/venues/4b240297f964a520055f24e3?client_id=I3GASL15SVBG55NYCBB1MUJTV2TY1SUNP13OENTMFQX3PRFU&client_secret=ZD0P1HKFZNWREIOXHZE3VCFRZLTAC3XARJFRCCXBRRAY0OYS&v=20180604\n",
      "https://api.foursquare.com/v2/venues/4bb7a566cf2fc9b6d98e9e02?client_id=I3GASL15SVBG55NYCBB1MUJTV2TY1SUNP13OENTMFQX3PRFU&client_secret=ZD0P1HKFZNWREIOXHZE3VCFRZLTAC3XARJFRCCXBRRAY0OYS&v=20180604\n",
      "https://api.foursquare.com/v2/venues/5b1854154a7aae002cbe8e62?client_id=I3GASL15SVBG55NYCBB1MUJTV2TY1SUNP13OENTMFQX3PRFU&client_secret=ZD0P1HKFZNWREIOXHZE3VCFRZLTAC3XARJFRCCXBRRAY0OYS&v=20180604\n",
      "https://api.foursquare.com/v2/venues/40b28c80f964a52059fc1ee3?client_id=I3GASL15SVBG55NYCBB1MUJTV2TY1SUNP13OENTMFQX3PRFU&client_secret=ZD0P1HKFZNWREIOXHZE3VCFRZLTAC3XARJFRCCXBRRAY0OYS&v=20180604\n",
      "https://api.foursquare.com/v2/venues/4b0d1cf0f964a520e84323e3?client_id=I3GASL15SVBG55NYCBB1MUJTV2TY1SUNP13OENTMFQX3PRFU&client_secret=ZD0P1HKFZNWREIOXHZE3VCFRZLTAC3XARJFRCCXBRRAY0OYS&v=20180604\n",
      "https://api.foursquare.com/v2/venues/4a58b7caf964a520b4b71fe3?client_id=I3GASL15SVBG55NYCBB1MUJTV2TY1SUNP13OENTMFQX3PRFU&client_secret=ZD0P1HKFZNWREIOXHZE3VCFRZLTAC3XARJFRCCXBRRAY0OYS&v=20180604\n",
      "https://api.foursquare.com/v2/venues/4e55255f6365b59a57f7b10b?client_id=I3GASL15SVBG55NYCBB1MUJTV2TY1SUNP13OENTMFQX3PRFU&client_secret=ZD0P1HKFZNWREIOXHZE3VCFRZLTAC3XARJFRCCXBRRAY0OYS&v=20180604\n"
     ]
    }
   ],
   "source": [
    "# The column names for the top venues dataframe\n",
    "venue_columns = ['id', \n",
    "                 'score', \n",
    "                 'category', \n",
    "                 'name', \n",
    "                 'address',\n",
    "                 'postalcode',\n",
    "                 'city',\n",
    "                 'href', \n",
    "                 'latitude', \n",
    "                 'longitude']\n",
    "\n",
    "# Create the empty top venues dataframe\n",
    "df_top_venues = pd.DataFrame(columns=venue_columns)\n",
    "\n",
    "# For each venue in the BeautifulSoup HTML object\n",
    "for venue in top_venues:\n",
    "    \n",
    "    # Extract the available attributes\n",
    "    venue_name = venue.find(target=\"_blank\").get_text()\n",
    "    venue_score = venue.find(class_=\"venueScore positive\").get_text()\n",
    "    venue_cat = venue.find(class_=\"categoryName\").get_text()\n",
    "    venue_href = venue.find(class_=\"venueName\").h2.a['href']\n",
    "    venue_id = venue_href.split('/')[-1]\n",
    "\n",
    "    if 'promotedTipId' in venue_id: \n",
    "        continue\n",
    "        \n",
    "    # Contruct the FourSquare venue API URL\n",
    "    url = 'https://api.foursquare.com/v2/venues/{}?client_id={}&client_secret={}&v={}'.format(\n",
    "        venue_id, \n",
    "        cfg['client_id'],\n",
    "        cfg['client_secret'],\n",
    "        cfg['version'])\n",
    "    \n",
    "    print(url)\n",
    "    "
   ]
  },
  {
   "cell_type": "code",
   "execution_count": 23,
   "metadata": {},
   "outputs": [
    {
     "data": {
      "text/plain": [
       "'4c23e840a852c928594ae26c'"
      ]
     },
     "execution_count": 23,
     "metadata": {},
     "output_type": "execute_result"
    }
   ],
   "source": [
    "top_venues[0].find(class_=\"venueName\").h2.a['href'].split('/')[-1]"
   ]
  },
  {
   "cell_type": "code",
   "execution_count": null,
   "metadata": {},
   "outputs": [],
   "source": []
  },
  {
   "cell_type": "code",
   "execution_count": null,
   "metadata": {},
   "outputs": [],
   "source": []
  },
  {
   "cell_type": "code",
   "execution_count": null,
   "metadata": {},
   "outputs": [],
   "source": []
  }
 ],
 "metadata": {
  "kernelspec": {
   "display_name": "Python 3",
   "language": "python",
   "name": "python3"
  },
  "language_info": {
   "codemirror_mode": {
    "name": "ipython",
    "version": 3
   },
   "file_extension": ".py",
   "mimetype": "text/x-python",
   "name": "python",
   "nbconvert_exporter": "python",
   "pygments_lexer": "ipython3",
   "version": "3.6.4"
  }
 },
 "nbformat": 4,
 "nbformat_minor": 2
}
