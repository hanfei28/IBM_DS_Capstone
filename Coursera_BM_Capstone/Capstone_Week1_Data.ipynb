{
 "cells": [
  {
   "cell_type": "markdown",
   "metadata": {},
   "source": [
    "# Section 2: Data Description"
   ]
  },
  {
   "cell_type": "markdown",
   "metadata": {},
   "source": [
    "In this section, I will describe the data used in the proposed solution to the question described in section 1."
   ]
  },
  {
   "cell_type": "markdown",
   "metadata": {},
   "source": [
    "Here are steps to get site data:\n",
    "\n",
    "1. Make query on FourSquare website to get the top sites to visit in Chicago\n",
    "2. Fetch geographical data from FourSquare API for each sites to visie\n",
    "3. Get top restaurants closest to each of the site from FourSquare API\n",
    "4. Get historical crime data from open data source"
   ]
  },
  {
   "cell_type": "markdown",
   "metadata": {},
   "source": [
    "The site information will be obtained using BeautifulSoup and Request from FourSquare."
   ]
  },
  {
   "cell_type": "markdown",
   "metadata": {},
   "source": [
    "### Historical Crime Data"
   ]
  },
  {
   "cell_type": "markdown",
   "metadata": {},
   "source": [
    "The historical crime data will be downloaded from Chicago Data Portal (https://data.cityofchicago.org/). The data dictionary is obtainable from the website."
   ]
  },
  {
   "cell_type": "markdown",
   "metadata": {},
   "source": [
    "Amoung many attributes in the crime data, we will subset the original data and only keep attributes most relevant to this project. This includes:\n",
    "\n",
    "* Date of occurance\n",
    "* Block\n",
    "* Primary description\n",
    "* Ward\n",
    "* Latitude\n",
    "* Longitue\n"
   ]
  },
  {
   "cell_type": "code",
   "execution_count": null,
   "metadata": {},
   "outputs": [],
   "source": []
  }
 ],
 "metadata": {
  "kernelspec": {
   "display_name": "Python 3",
   "language": "python",
   "name": "python3"
  },
  "language_info": {
   "codemirror_mode": {
    "name": "ipython",
    "version": 3
   },
   "file_extension": ".py",
   "mimetype": "text/x-python",
   "name": "python",
   "nbconvert_exporter": "python",
   "pygments_lexer": "ipython3",
   "version": "3.6.4"
  }
 },
 "nbformat": 4,
 "nbformat_minor": 2
}
