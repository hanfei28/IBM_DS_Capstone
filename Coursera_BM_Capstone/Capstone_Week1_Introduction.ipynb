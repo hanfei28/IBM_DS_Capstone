{
 "cells": [
  {
   "cell_type": "markdown",
   "metadata": {},
   "source": [
    "# Section 1: introduction"
   ]
  },
  {
   "cell_type": "markdown",
   "metadata": {},
   "source": [
    "In this section, I will describe the question and idea to solve this question using location data."
   ]
  },
  {
   "cell_type": "markdown",
   "metadata": {},
   "source": [
    "## Background"
   ]
  },
  {
   "cell_type": "markdown",
   "metadata": {},
   "source": [
    "Let's assume this scenario. I am planning a family travel to Chicago. Since this city is deemed a dangerous place, I need to plan ahead to know the place where have high crime incidences and so that I could avoid during the travel."
   ]
  },
  {
   "cell_type": "markdown",
   "metadata": {},
   "source": [
    "Here is the steps I need to do:\n",
    "\n",
    "1. I will decide sites where we will visit from the FourSquare website\n",
    "2. From FourSquare get geographical data \n",
    "3. Obtain historical crime data \n",
    "4. Get the historical crime within a specified distance of all sites \n",
    "5. Get a map to help visually plan route\n",
    "6. Predicting probabilty of a crime for all the selected site"
   ]
  },
  {
   "cell_type": "markdown",
   "metadata": {},
   "source": [
    "Tasks bearkdown and potential issues:\n",
    "\n",
    "1. Data acquition\n",
    "2. Data cleansing\n",
    "3. Data analysis\n",
    "4. Model building and prediction\n",
    "5. Result presentation"
   ]
  },
  {
   "cell_type": "code",
   "execution_count": null,
   "metadata": {},
   "outputs": [],
   "source": []
  }
 ],
 "metadata": {
  "kernelspec": {
   "display_name": "Python 3",
   "language": "python",
   "name": "python3"
  },
  "language_info": {
   "codemirror_mode": {
    "name": "ipython",
    "version": 3
   },
   "file_extension": ".py",
   "mimetype": "text/x-python",
   "name": "python",
   "nbconvert_exporter": "python",
   "pygments_lexer": "ipython3",
   "version": "3.6.4"
  }
 },
 "nbformat": 4,
 "nbformat_minor": 2
}
