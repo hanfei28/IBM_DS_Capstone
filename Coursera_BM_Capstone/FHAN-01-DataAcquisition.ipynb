{
 "cells": [
  {
   "cell_type": "markdown",
   "metadata": {},
   "source": [
    "# Data Acquisition"
   ]
  },
  {
   "cell_type": "markdown",
   "metadata": {},
   "source": [
    "Phase 1:\n",
    "    \n",
    "    - Get Top 10 sites to visit in Chicago\n",
    "    - Get a list of restaurants for each of the top 10 sites\n",
    "    - Get the Chicago Police Department Crime Data"
   ]
  },
  {
   "cell_type": "code",
   "execution_count": 43,
   "metadata": {},
   "outputs": [],
   "source": [
    "# Import Pandas to provide DataFrame support\n",
    "import pandas as pd\n",
    "pd.set_option('display.max_columns', None)\n",
    "pd.set_option('display.max_rows', None)\n",
    "\n",
    "# Import Requests\n",
    "import requests\n",
    "\n",
    "# Import BeautifulSoup\n",
    "from bs4 import BeautifulSoup"
   ]
  },
  {
   "cell_type": "code",
   "execution_count": 48,
   "metadata": {
    "scrolled": true
   },
   "outputs": [],
   "source": [
    "# Yaml is used to store some of the required configurations\n",
    "import yaml\n",
    "\n",
    "with open(\".\\\\data\\\\config.txt\", \"r\") as f:\n",
    "    cfg = yaml.load(f, Loader=yaml.FullLoader)\n",
    " \n",
    "search_params = {\n",
    "    'client_id': cfg['client_id'],\n",
    "    'client_secret': cfg['client_secret'],\n",
    "    'intent': 'browse',\n",
    "    'limit': 50,\n",
    "    'v': cfg['version']\n",
    "}"
   ]
  },
  {
   "cell_type": "code",
   "execution_count": 56,
   "metadata": {},
   "outputs": [],
   "source": [
    "# Use the Requests get method to request the top sites in Chicago\n",
    "page = requests.get(\n",
    "    \"https://foursquare.com/explore?mode=url&near=Chicago%2C%20IL%2C%20United%20States&nearGeoId=72057594042815334&q=Top%20Picks\")\n",
    "\n",
    "# Convert the HTML response into a BeautifulSoup Object\n",
    "soup = BeautifulSoup(page.content, 'html.parser')\n",
    "\n",
    "# Use the BeautifulSoup find_all method to extract each top site venue details.\n",
    "top_venues = soup.find_all('div', class_='venueDetails')\n"
   ]
  },
  {
   "cell_type": "code",
   "execution_count": 81,
   "metadata": {},
   "outputs": [
    {
     "data": {
      "text/plain": [
       "'4c23e840a852c928594ae26c'"
      ]
     },
     "execution_count": 81,
     "metadata": {},
     "output_type": "execute_result"
    }
   ],
   "source": [
    "top_venues[0].find(class_=\"venueName\").h2.a['href'].split('/')[-1]"
   ]
  },
  {
   "cell_type": "code",
   "execution_count": 78,
   "metadata": {},
   "outputs": [
    {
     "name": "stdout",
     "output_type": "stream",
     "text": [
      "https://api.foursquare.com/v2/venues/4c23e840a852c928594ae26c?client_id=I3GASL15SVBG55NYCBB1MUJTV2TY1SUNP13OENTMFQX3PRFU&client_secret=ZD0P1HKFZNWREIOXHZE3VCFRZLTAC3XARJFRCCXBRRAY0OYS&v=20180604\n",
      "https://api.foursquare.com/v2/venues/42b75880f964a52090251fe3?client_id=I3GASL15SVBG55NYCBB1MUJTV2TY1SUNP13OENTMFQX3PRFU&client_secret=ZD0P1HKFZNWREIOXHZE3VCFRZLTAC3XARJFRCCXBRRAY0OYS&v=20180604\n",
      "https://api.foursquare.com/v2/venues/4b9d15c5f964a520478e36e3?client_id=I3GASL15SVBG55NYCBB1MUJTV2TY1SUNP13OENTMFQX3PRFU&client_secret=ZD0P1HKFZNWREIOXHZE3VCFRZLTAC3XARJFRCCXBRRAY0OYS&v=20180604\n",
      "https://api.foursquare.com/v2/venues/4b06c066f964a52097ef22e3?client_id=I3GASL15SVBG55NYCBB1MUJTV2TY1SUNP13OENTMFQX3PRFU&client_secret=ZD0P1HKFZNWREIOXHZE3VCFRZLTAC3XARJFRCCXBRRAY0OYS&v=20180604\n",
      "https://api.foursquare.com/v2/venues/4f2a0d0ae4b0837d0c4c2bc3?client_id=I3GASL15SVBG55NYCBB1MUJTV2TY1SUNP13OENTMFQX3PRFU&client_secret=ZD0P1HKFZNWREIOXHZE3VCFRZLTAC3XARJFRCCXBRRAY0OYS&v=20180604\n",
      "https://api.foursquare.com/v2/venues/4c47533649fa9521cb1f5e62?client_id=I3GASL15SVBG55NYCBB1MUJTV2TY1SUNP13OENTMFQX3PRFU&client_secret=ZD0P1HKFZNWREIOXHZE3VCFRZLTAC3XARJFRCCXBRRAY0OYS&v=20180604\n",
      "https://api.foursquare.com/v2/venues/49e9ef74f964a52011661fe3?client_id=I3GASL15SVBG55NYCBB1MUJTV2TY1SUNP13OENTMFQX3PRFU&client_secret=ZD0P1HKFZNWREIOXHZE3VCFRZLTAC3XARJFRCCXBRRAY0OYS&v=20180604\n",
      "https://api.foursquare.com/v2/venues/4a6e8003f964a520d5d41fe3?client_id=I3GASL15SVBG55NYCBB1MUJTV2TY1SUNP13OENTMFQX3PRFU&client_secret=ZD0P1HKFZNWREIOXHZE3VCFRZLTAC3XARJFRCCXBRRAY0OYS&v=20180604\n",
      "https://api.foursquare.com/v2/venues/4a9046daf964a520ff1620e3?client_id=I3GASL15SVBG55NYCBB1MUJTV2TY1SUNP13OENTMFQX3PRFU&client_secret=ZD0P1HKFZNWREIOXHZE3VCFRZLTAC3XARJFRCCXBRRAY0OYS&v=20180604\n",
      "https://api.foursquare.com/v2/venues/4aa05f40f964a520643f20e3?client_id=I3GASL15SVBG55NYCBB1MUJTV2TY1SUNP13OENTMFQX3PRFU&client_secret=ZD0P1HKFZNWREIOXHZE3VCFRZLTAC3XARJFRCCXBRRAY0OYS&v=20180604\n",
      "https://api.foursquare.com/v2/venues/4b9511c7f964a520f38d34e3?client_id=I3GASL15SVBG55NYCBB1MUJTV2TY1SUNP13OENTMFQX3PRFU&client_secret=ZD0P1HKFZNWREIOXHZE3VCFRZLTAC3XARJFRCCXBRRAY0OYS&v=20180604\n",
      "https://api.foursquare.com/v2/venues/4adfca6df964a520777d21e3?client_id=I3GASL15SVBG55NYCBB1MUJTV2TY1SUNP13OENTMFQX3PRFU&client_secret=ZD0P1HKFZNWREIOXHZE3VCFRZLTAC3XARJFRCCXBRRAY0OYS&v=20180604\n",
      "https://api.foursquare.com/v2/venues/4b9a32a0f964a5200aa435e3?client_id=I3GASL15SVBG55NYCBB1MUJTV2TY1SUNP13OENTMFQX3PRFU&client_secret=ZD0P1HKFZNWREIOXHZE3VCFRZLTAC3XARJFRCCXBRRAY0OYS&v=20180604\n",
      "https://api.foursquare.com/v2/venues/5b15ed56cbcdee002c59b8e8?client_id=I3GASL15SVBG55NYCBB1MUJTV2TY1SUNP13OENTMFQX3PRFU&client_secret=ZD0P1HKFZNWREIOXHZE3VCFRZLTAC3XARJFRCCXBRRAY0OYS&v=20180604\n",
      "https://api.foursquare.com/v2/venues/4dfc110145ddebdfeaa9754e?client_id=I3GASL15SVBG55NYCBB1MUJTV2TY1SUNP13OENTMFQX3PRFU&client_secret=ZD0P1HKFZNWREIOXHZE3VCFRZLTAC3XARJFRCCXBRRAY0OYS&v=20180604\n",
      "https://api.foursquare.com/v2/venues/4f6b838d7bebf48a25686d52?client_id=I3GASL15SVBG55NYCBB1MUJTV2TY1SUNP13OENTMFQX3PRFU&client_secret=ZD0P1HKFZNWREIOXHZE3VCFRZLTAC3XARJFRCCXBRRAY0OYS&v=20180604\n",
      "https://api.foursquare.com/v2/venues/49dce128f964a520b65f1fe3?client_id=I3GASL15SVBG55NYCBB1MUJTV2TY1SUNP13OENTMFQX3PRFU&client_secret=ZD0P1HKFZNWREIOXHZE3VCFRZLTAC3XARJFRCCXBRRAY0OYS&v=20180604\n",
      "https://api.foursquare.com/v2/venues/5743c846498ec47db1127412?client_id=I3GASL15SVBG55NYCBB1MUJTV2TY1SUNP13OENTMFQX3PRFU&client_secret=ZD0P1HKFZNWREIOXHZE3VCFRZLTAC3XARJFRCCXBRRAY0OYS&v=20180604\n",
      "https://api.foursquare.com/v2/venues/4b6cfef5f964a52026622ce3?client_id=I3GASL15SVBG55NYCBB1MUJTV2TY1SUNP13OENTMFQX3PRFU&client_secret=ZD0P1HKFZNWREIOXHZE3VCFRZLTAC3XARJFRCCXBRRAY0OYS&v=20180604\n",
      "https://api.foursquare.com/v2/venues/42e82000f964a52086261fe3?client_id=I3GASL15SVBG55NYCBB1MUJTV2TY1SUNP13OENTMFQX3PRFU&client_secret=ZD0P1HKFZNWREIOXHZE3VCFRZLTAC3XARJFRCCXBRRAY0OYS&v=20180604\n",
      "https://api.foursquare.com/v2/venues/50b69e52e4b023feffc3b3ae?client_id=I3GASL15SVBG55NYCBB1MUJTV2TY1SUNP13OENTMFQX3PRFU&client_secret=ZD0P1HKFZNWREIOXHZE3VCFRZLTAC3XARJFRCCXBRRAY0OYS&v=20180604\n",
      "https://api.foursquare.com/v2/venues/55920187498ecdbb2b627305?client_id=I3GASL15SVBG55NYCBB1MUJTV2TY1SUNP13OENTMFQX3PRFU&client_secret=ZD0P1HKFZNWREIOXHZE3VCFRZLTAC3XARJFRCCXBRRAY0OYS&v=20180604\n",
      "https://api.foursquare.com/v2/venues/4a461376f964a52085a81fe3?client_id=I3GASL15SVBG55NYCBB1MUJTV2TY1SUNP13OENTMFQX3PRFU&client_secret=ZD0P1HKFZNWREIOXHZE3VCFRZLTAC3XARJFRCCXBRRAY0OYS&v=20180604\n",
      "https://api.foursquare.com/v2/venues/4b240297f964a520055f24e3?client_id=I3GASL15SVBG55NYCBB1MUJTV2TY1SUNP13OENTMFQX3PRFU&client_secret=ZD0P1HKFZNWREIOXHZE3VCFRZLTAC3XARJFRCCXBRRAY0OYS&v=20180604\n",
      "https://api.foursquare.com/v2/venues/4bb7a566cf2fc9b6d98e9e02?client_id=I3GASL15SVBG55NYCBB1MUJTV2TY1SUNP13OENTMFQX3PRFU&client_secret=ZD0P1HKFZNWREIOXHZE3VCFRZLTAC3XARJFRCCXBRRAY0OYS&v=20180604\n",
      "https://api.foursquare.com/v2/venues/5b1854154a7aae002cbe8e62?client_id=I3GASL15SVBG55NYCBB1MUJTV2TY1SUNP13OENTMFQX3PRFU&client_secret=ZD0P1HKFZNWREIOXHZE3VCFRZLTAC3XARJFRCCXBRRAY0OYS&v=20180604\n",
      "https://api.foursquare.com/v2/venues/40b28c80f964a52059fc1ee3?client_id=I3GASL15SVBG55NYCBB1MUJTV2TY1SUNP13OENTMFQX3PRFU&client_secret=ZD0P1HKFZNWREIOXHZE3VCFRZLTAC3XARJFRCCXBRRAY0OYS&v=20180604\n",
      "https://api.foursquare.com/v2/venues/4b0d1cf0f964a520e84323e3?client_id=I3GASL15SVBG55NYCBB1MUJTV2TY1SUNP13OENTMFQX3PRFU&client_secret=ZD0P1HKFZNWREIOXHZE3VCFRZLTAC3XARJFRCCXBRRAY0OYS&v=20180604\n",
      "https://api.foursquare.com/v2/venues/4a58b7caf964a520b4b71fe3?client_id=I3GASL15SVBG55NYCBB1MUJTV2TY1SUNP13OENTMFQX3PRFU&client_secret=ZD0P1HKFZNWREIOXHZE3VCFRZLTAC3XARJFRCCXBRRAY0OYS&v=20180604\n",
      "https://api.foursquare.com/v2/venues/4e55255f6365b59a57f7b10b?client_id=I3GASL15SVBG55NYCBB1MUJTV2TY1SUNP13OENTMFQX3PRFU&client_secret=ZD0P1HKFZNWREIOXHZE3VCFRZLTAC3XARJFRCCXBRRAY0OYS&v=20180604\n"
     ]
    }
   ],
   "source": [
    "# The column names for the top venues dataframe\n",
    "venue_columns = ['id', \n",
    "                 'score', \n",
    "                 'category', \n",
    "                 'name', \n",
    "                 'address',\n",
    "                 'postalcode',\n",
    "                 'city',\n",
    "                 'href', \n",
    "                 'latitude', \n",
    "                 'longitude']\n",
    "\n",
    "# Create the empty top venues dataframe\n",
    "df_top_venues = pd.DataFrame(columns=venue_columns)\n",
    "\n",
    "# For each venue in the BeautifulSoup HTML object\n",
    "for venue in top_venues:\n",
    "    \n",
    "    # Extract the available attributes\n",
    "    venue_name = venue.find(target=\"_blank\").get_text()\n",
    "    venue_score = venue.find(class_=\"venueScore positive\").get_text()\n",
    "    venue_cat = venue.find(class_=\"categoryName\").get_text()\n",
    "    venue_href = venue.find(class_=\"venueName\").h2.a['href']\n",
    "    venue_id = venue_href.split('/')[-1]   \n",
    "\n",
    "    if 'promotedTipId' in venue_id: \n",
    "        continue\n",
    "        \n",
    "    # Contruct the FourSquare venue API URL\n",
    "    url = 'https://api.foursquare.com/v2/venues/{}?client_id={}&client_secret={}&v={}'.format(\n",
    "        venue_id, \n",
    "        cfg['client_id'],\n",
    "        cfg['client_secret'],\n",
    "        cfg['version'])\n",
    "    \n",
    "    # Request the venue data\n",
    "    result = requests.get(url).json()\n",
    "    print(url)"
   ]
  },
  {
   "cell_type": "code",
   "execution_count": 74,
   "metadata": {
    "scrolled": false
   },
   "outputs": [
    {
     "data": {
      "text/plain": [
       "<a href=\"/v/nature-boardwalk/4c23e840a852c928594ae26c\" target=\"_blank\">Nature Boardwalk</a>"
      ]
     },
     "execution_count": 74,
     "metadata": {},
     "output_type": "execute_result"
    }
   ],
   "source": [
    "top_venues[0].find(target=\"_blank\")"
   ]
  },
  {
   "cell_type": "code",
   "execution_count": 75,
   "metadata": {},
   "outputs": [
    {
     "data": {
      "text/plain": [
       "'Nature Boardwalk'"
      ]
     },
     "execution_count": 75,
     "metadata": {},
     "output_type": "execute_result"
    }
   ],
   "source": [
    "top_venues[0].find(target=\"_blank\").get_text()"
   ]
  },
  {
   "cell_type": "code",
   "execution_count": 59,
   "metadata": {},
   "outputs": [
    {
     "ename": "KeyError",
     "evalue": "'venue'",
     "output_type": "error",
     "traceback": [
      "\u001b[1;31m---------------------------------------------------------------------------\u001b[0m",
      "\u001b[1;31mKeyError\u001b[0m                                  Traceback (most recent call last)",
      "\u001b[1;32m<ipython-input-59-b60603fc0166>\u001b[0m in \u001b[0;36m<module>\u001b[1;34m()\u001b[0m\n\u001b[0;32m     38\u001b[0m \u001b[1;33m\u001b[0m\u001b[0m\n\u001b[0;32m     39\u001b[0m     \u001b[1;31m# Get the properly formatted address and the latitude and longitude\u001b[0m\u001b[1;33m\u001b[0m\u001b[1;33m\u001b[0m\u001b[0m\n\u001b[1;32m---> 40\u001b[1;33m     \u001b[0mvenue_address\u001b[0m \u001b[1;33m=\u001b[0m \u001b[0mresult\u001b[0m\u001b[1;33m[\u001b[0m\u001b[1;34m'response'\u001b[0m\u001b[1;33m]\u001b[0m\u001b[1;33m[\u001b[0m\u001b[1;34m'venue'\u001b[0m\u001b[1;33m]\u001b[0m\u001b[1;33m[\u001b[0m\u001b[1;34m'location'\u001b[0m\u001b[1;33m]\u001b[0m\u001b[1;33m[\u001b[0m\u001b[1;34m'address'\u001b[0m\u001b[1;33m]\u001b[0m\u001b[1;33m\u001b[0m\u001b[0m\n\u001b[0m\u001b[0;32m     41\u001b[0m     \u001b[0mvenue_postalcode\u001b[0m \u001b[1;33m=\u001b[0m \u001b[0mresult\u001b[0m\u001b[1;33m[\u001b[0m\u001b[1;34m'response'\u001b[0m\u001b[1;33m]\u001b[0m\u001b[1;33m[\u001b[0m\u001b[1;34m'venue'\u001b[0m\u001b[1;33m]\u001b[0m\u001b[1;33m[\u001b[0m\u001b[1;34m'location'\u001b[0m\u001b[1;33m]\u001b[0m\u001b[1;33m[\u001b[0m\u001b[1;34m'postalCode'\u001b[0m\u001b[1;33m]\u001b[0m\u001b[1;33m\u001b[0m\u001b[0m\n\u001b[0;32m     42\u001b[0m     \u001b[0mvenue_city\u001b[0m \u001b[1;33m=\u001b[0m \u001b[0mresult\u001b[0m\u001b[1;33m[\u001b[0m\u001b[1;34m'response'\u001b[0m\u001b[1;33m]\u001b[0m\u001b[1;33m[\u001b[0m\u001b[1;34m'venue'\u001b[0m\u001b[1;33m]\u001b[0m\u001b[1;33m[\u001b[0m\u001b[1;34m'location'\u001b[0m\u001b[1;33m]\u001b[0m\u001b[1;33m[\u001b[0m\u001b[1;34m'city'\u001b[0m\u001b[1;33m]\u001b[0m\u001b[1;33m\u001b[0m\u001b[0m\n",
      "\u001b[1;31mKeyError\u001b[0m: 'venue'"
     ]
    }
   ],
   "source": [
    "\n",
    "    # Get the properly formatted address and the latitude and longitude\n",
    "    venue_address = result['response']['venue']['location']['address']\n",
    "    venue_postalcode = result['response']['venue']['location']['postalCode']\n",
    "    venue_city = result['response']['venue']['location']['city']\n",
    "    venue_latitude = result['response']['venue']['location']['lat']\n",
    "    venue_longitude = result['response']['venue']['location']['lng']\n",
    "    \n",
    "    # Add the venue to the top venues dataframe\n",
    "    df_top_venues = df_top_venues.append({'id': venue_id,\n",
    "                                          'score': venue_score,\n",
    "                                          'category': venue_cat,\n",
    "                                          'name': venue_name,\n",
    "                                          'address': venue_address,\n",
    "                                          'postalcode': venue_postalcode,\n",
    "                                          'city': venue_city,\n",
    "                                          'href': venue_href,\n",
    "                                          'latitude': venue_latitude,\n",
    "                                          'longitude': venue_longitude}, ignore_index=True)"
   ]
  },
  {
   "cell_type": "code",
   "execution_count": 55,
   "metadata": {},
   "outputs": [
    {
     "data": {
      "text/plain": [
       "{'meta': {'code': 429,\n",
       "  'errorDetail': 'Quota exceeded',\n",
       "  'errorType': 'quota_exceeded',\n",
       "  'requestId': '5f00d0d0d2caaa488eee8b68'},\n",
       " 'response': {}}"
      ]
     },
     "execution_count": 55,
     "metadata": {},
     "output_type": "execute_result"
    }
   ],
   "source": [
    "result"
   ]
  },
  {
   "cell_type": "code",
   "execution_count": 50,
   "metadata": {},
   "outputs": [
    {
     "ename": "KeyError",
     "evalue": "'venue'",
     "output_type": "error",
     "traceback": [
      "\u001b[1;31m---------------------------------------------------------------------------\u001b[0m",
      "\u001b[1;31mKeyError\u001b[0m                                  Traceback (most recent call last)",
      "\u001b[1;32m<ipython-input-50-b60603fc0166>\u001b[0m in \u001b[0;36m<module>\u001b[1;34m()\u001b[0m\n\u001b[0;32m     38\u001b[0m \u001b[1;33m\u001b[0m\u001b[0m\n\u001b[0;32m     39\u001b[0m     \u001b[1;31m# Get the properly formatted address and the latitude and longitude\u001b[0m\u001b[1;33m\u001b[0m\u001b[1;33m\u001b[0m\u001b[0m\n\u001b[1;32m---> 40\u001b[1;33m     \u001b[0mvenue_address\u001b[0m \u001b[1;33m=\u001b[0m \u001b[0mresult\u001b[0m\u001b[1;33m[\u001b[0m\u001b[1;34m'response'\u001b[0m\u001b[1;33m]\u001b[0m\u001b[1;33m[\u001b[0m\u001b[1;34m'venue'\u001b[0m\u001b[1;33m]\u001b[0m\u001b[1;33m[\u001b[0m\u001b[1;34m'location'\u001b[0m\u001b[1;33m]\u001b[0m\u001b[1;33m[\u001b[0m\u001b[1;34m'address'\u001b[0m\u001b[1;33m]\u001b[0m\u001b[1;33m\u001b[0m\u001b[0m\n\u001b[0m\u001b[0;32m     41\u001b[0m     \u001b[0mvenue_postalcode\u001b[0m \u001b[1;33m=\u001b[0m \u001b[0mresult\u001b[0m\u001b[1;33m[\u001b[0m\u001b[1;34m'response'\u001b[0m\u001b[1;33m]\u001b[0m\u001b[1;33m[\u001b[0m\u001b[1;34m'venue'\u001b[0m\u001b[1;33m]\u001b[0m\u001b[1;33m[\u001b[0m\u001b[1;34m'location'\u001b[0m\u001b[1;33m]\u001b[0m\u001b[1;33m[\u001b[0m\u001b[1;34m'postalCode'\u001b[0m\u001b[1;33m]\u001b[0m\u001b[1;33m\u001b[0m\u001b[0m\n\u001b[0;32m     42\u001b[0m     \u001b[0mvenue_city\u001b[0m \u001b[1;33m=\u001b[0m \u001b[0mresult\u001b[0m\u001b[1;33m[\u001b[0m\u001b[1;34m'response'\u001b[0m\u001b[1;33m]\u001b[0m\u001b[1;33m[\u001b[0m\u001b[1;34m'venue'\u001b[0m\u001b[1;33m]\u001b[0m\u001b[1;33m[\u001b[0m\u001b[1;34m'location'\u001b[0m\u001b[1;33m]\u001b[0m\u001b[1;33m[\u001b[0m\u001b[1;34m'city'\u001b[0m\u001b[1;33m]\u001b[0m\u001b[1;33m\u001b[0m\u001b[0m\n",
      "\u001b[1;31mKeyError\u001b[0m: 'venue'"
     ]
    }
   ],
   "source": [
    "# The column names for the top venues dataframe\n",
    "venue_columns = ['id', \n",
    "                 'score', \n",
    "                 'category', \n",
    "                 'name', \n",
    "                 'address',\n",
    "                 'postalcode',\n",
    "                 'city',\n",
    "                 'href', \n",
    "                 'latitude', \n",
    "                 'longitude']\n",
    "\n",
    "# Create the empty top venues dataframe\n",
    "df_top_venues = pd.DataFrame(columns=venue_columns)\n",
    "\n",
    "# For each venue in the BeautifulSoup HTML object\n",
    "for venue in top_venues:\n",
    "    \n",
    "    # Extract the available attributes\n",
    "    venue_name = venue.find(target=\"_blank\").get_text()\n",
    "    venue_score = venue.find(class_=\"venueScore positive\").get_text()\n",
    "    venue_cat = venue.find(class_=\"categoryName\").get_text()\n",
    "    venue_href = venue.find(class_=\"venueName\").h2.a['href']\n",
    "    venue_id = venue_href.split('/')[-1]\n",
    "\n",
    "    if 'promotedTipId' in venue_id: \n",
    "        continue\n",
    "        \n",
    "    # Contruct the FourSquare venue API URL\n",
    "    url = 'https://api.foursquare.com/v2/venues/{}?client_id={}&client_secret={}&v={}'.format(\n",
    "        venue_id, \n",
    "        cfg['client_id'],\n",
    "        cfg['client_secret'],\n",
    "        cfg['version'])\n",
    "    \n",
    "    # Request the venue data\n",
    "    result = requests.get(url).json()\n",
    "        \n",
    "    # Get the properly formatted address and the latitude and longitude\n",
    "    venue_address = result['response']['venue']['location']['address']\n",
    "    venue_postalcode = result['response']['venue']['location']['postalCode']\n",
    "    venue_city = result['response']['venue']['location']['city']\n",
    "    venue_latitude = result['response']['venue']['location']['lat']\n",
    "    venue_longitude = result['response']['venue']['location']['lng']\n",
    "    \n",
    "    # Add the venue to the top venues dataframe\n",
    "    df_top_venues = df_top_venues.append({'id': venue_id,\n",
    "                                          'score': venue_score,\n",
    "                                          'category': venue_cat,\n",
    "                                          'name': venue_name,\n",
    "                                          'address': venue_address,\n",
    "                                          'postalcode': venue_postalcode,\n",
    "                                          'city': venue_city,\n",
    "                                          'href': venue_href,\n",
    "                                          'latitude': venue_latitude,\n",
    "                                          'longitude': venue_longitude}, ignore_index=True)"
   ]
  },
  {
   "cell_type": "code",
   "execution_count": 41,
   "metadata": {},
   "outputs": [
    {
     "data": {
      "text/plain": [
       "bs4.element.ResultSet"
      ]
     },
     "execution_count": 41,
     "metadata": {},
     "output_type": "execute_result"
    }
   ],
   "source": [
    "type(top_venues)"
   ]
  },
  {
   "cell_type": "code",
   "execution_count": 42,
   "metadata": {},
   "outputs": [
    {
     "ename": "KeyError",
     "evalue": "'venue'",
     "output_type": "error",
     "traceback": [
      "\u001b[1;31m---------------------------------------------------------------------------\u001b[0m",
      "\u001b[1;31mKeyError\u001b[0m                                  Traceback (most recent call last)",
      "\u001b[1;32m<ipython-input-42-f80bfeac8205>\u001b[0m in \u001b[0;36m<module>\u001b[1;34m()\u001b[0m\n\u001b[0;32m     23\u001b[0m \u001b[1;33m\u001b[0m\u001b[0m\n\u001b[0;32m     24\u001b[0m     \u001b[1;31m# Get the properly formatted address and the latitude and longitude\u001b[0m\u001b[1;33m\u001b[0m\u001b[1;33m\u001b[0m\u001b[0m\n\u001b[1;32m---> 25\u001b[1;33m     \u001b[0mvenue_address\u001b[0m \u001b[1;33m=\u001b[0m \u001b[0mresult\u001b[0m\u001b[1;33m[\u001b[0m\u001b[1;34m'response'\u001b[0m\u001b[1;33m]\u001b[0m\u001b[1;33m[\u001b[0m\u001b[1;34m'venue'\u001b[0m\u001b[1;33m]\u001b[0m\u001b[1;33m[\u001b[0m\u001b[1;34m'location'\u001b[0m\u001b[1;33m]\u001b[0m\u001b[1;33m[\u001b[0m\u001b[1;34m'address'\u001b[0m\u001b[1;33m]\u001b[0m\u001b[1;33m\u001b[0m\u001b[0m\n\u001b[0m\u001b[0;32m     26\u001b[0m     \u001b[0mvenue_postalcode\u001b[0m \u001b[1;33m=\u001b[0m \u001b[0mresult\u001b[0m\u001b[1;33m[\u001b[0m\u001b[1;34m'response'\u001b[0m\u001b[1;33m]\u001b[0m\u001b[1;33m[\u001b[0m\u001b[1;34m'venue'\u001b[0m\u001b[1;33m]\u001b[0m\u001b[1;33m[\u001b[0m\u001b[1;34m'location'\u001b[0m\u001b[1;33m]\u001b[0m\u001b[1;33m[\u001b[0m\u001b[1;34m'postalCode'\u001b[0m\u001b[1;33m]\u001b[0m\u001b[1;33m\u001b[0m\u001b[0m\n\u001b[0;32m     27\u001b[0m     \u001b[0mvenue_city\u001b[0m \u001b[1;33m=\u001b[0m \u001b[0mresult\u001b[0m\u001b[1;33m[\u001b[0m\u001b[1;34m'response'\u001b[0m\u001b[1;33m]\u001b[0m\u001b[1;33m[\u001b[0m\u001b[1;34m'venue'\u001b[0m\u001b[1;33m]\u001b[0m\u001b[1;33m[\u001b[0m\u001b[1;34m'location'\u001b[0m\u001b[1;33m]\u001b[0m\u001b[1;33m[\u001b[0m\u001b[1;34m'city'\u001b[0m\u001b[1;33m]\u001b[0m\u001b[1;33m\u001b[0m\u001b[0m\n",
      "\u001b[1;31mKeyError\u001b[0m: 'venue'"
     ]
    }
   ],
   "source": [
    "# For each venue in the BeautifulSoup HTML object\n",
    "for venue in top_venues:\n",
    "    \n",
    "    # Extract the available attributes\n",
    "    venue_name = venue.find(target=\"_blank\").get_text()\n",
    "    venue_score = venue.find(class_=\"venueScore positive\").get_text()\n",
    "    venue_cat = venue.find(class_=\"categoryName\").get_text()\n",
    "    venue_href = venue.find(class_=\"venueName\").h2.a['href']\n",
    "    venue_id = venue_href.split('/')[-1]\n",
    "\n",
    "    if 'promotedTipId' in venue_id: \n",
    "        continue\n",
    "        \n",
    "    # Contruct the FourSquare venue API URL\n",
    "    url = 'https://api.foursquare.com/v2/venues/{}?client_id={}&client_secret={}&v={}'.format(\n",
    "        venue_id, \n",
    "        cfg['client_id'],\n",
    "        cfg['client_secret'],\n",
    "        cfg['version'])\n",
    "    \n",
    "    # Request the venue data\n",
    "    result = requests.get(url).json()\n",
    "        \n",
    "    # Get the properly formatted address and the latitude and longitude\n",
    "    venue_address = result['response']['venue']['location']['address']\n",
    "    venue_postalcode = result['response']['venue']['location']['postalCode']\n",
    "    venue_city = result['response']['venue']['location']['city']\n",
    "    venue_latitude = result['response']['venue']['location']['lat']\n",
    "    venue_longitude = result['response']['venue']['location']['lng']\n",
    "    \n",
    "    # Add the venue to the top venues dataframe\n",
    "    df_top_venues = df_top_venues.append({'id': venue_id,\n",
    "                                          'score': venue_score,\n",
    "                                          'category': venue_cat,\n",
    "                                          'name': venue_name,\n",
    "                                          'address': venue_address,\n",
    "                                          'postalcode': venue_postalcode,\n",
    "                                          'city': venue_city,\n",
    "                                          'href': venue_href,\n",
    "                                          'latitude': venue_latitude,\n",
    "                                          'longitude': venue_longitude}, ignore_index=True)"
   ]
  },
  {
   "cell_type": "code",
   "execution_count": null,
   "metadata": {},
   "outputs": [],
   "source": []
  }
 ],
 "metadata": {
  "kernelspec": {
   "display_name": "Python 3",
   "language": "python",
   "name": "python3"
  },
  "language_info": {
   "codemirror_mode": {
    "name": "ipython",
    "version": 3
   },
   "file_extension": ".py",
   "mimetype": "text/x-python",
   "name": "python",
   "nbconvert_exporter": "python",
   "pygments_lexer": "ipython3",
   "version": "3.6.4"
  }
 },
 "nbformat": 4,
 "nbformat_minor": 2
}
